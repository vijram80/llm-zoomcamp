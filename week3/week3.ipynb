{
 "cells": [
  {
   "cell_type": "code",
   "execution_count": 2,
   "id": "66f6faf9",
   "metadata": {
    "collapsed": true
   },
   "outputs": [
    {
     "name": "stdout",
     "output_type": "stream",
     "text": [
      "Collecting sentence_transformers\n",
      "  Using cached sentence_transformers-3.0.1-py3-none-any.whl (227 kB)\n",
      "Collecting transformers<5.0.0,>=4.34.0\n",
      "  Using cached transformers-4.42.4-py3-none-any.whl (9.3 MB)\n",
      "Requirement already satisfied: scipy in /home/vijay/anaconda3/lib/python3.9/site-packages (from sentence_transformers) (1.13.1)\n",
      "Collecting huggingface-hub>=0.15.1\n",
      "  Using cached huggingface_hub-0.23.4-py3-none-any.whl (402 kB)\n",
      "Requirement already satisfied: tqdm in /home/vijay/anaconda3/lib/python3.9/site-packages (from sentence_transformers) (4.64.1)\n",
      "Requirement already satisfied: numpy in /home/vijay/anaconda3/lib/python3.9/site-packages (from sentence_transformers) (1.26.4)\n",
      "Requirement already satisfied: Pillow in /home/vijay/anaconda3/lib/python3.9/site-packages (from sentence_transformers) (9.2.0)\n",
      "Collecting torch>=1.11.0\n",
      "  Using cached torch-2.3.1-cp39-cp39-manylinux1_x86_64.whl (779.1 MB)\n",
      "Requirement already satisfied: scikit-learn in /home/vijay/anaconda3/lib/python3.9/site-packages (from sentence_transformers) (1.0.2)\n",
      "Requirement already satisfied: typing-extensions>=3.7.4.3 in /home/vijay/anaconda3/lib/python3.9/site-packages (from huggingface-hub>=0.15.1->sentence_transformers) (4.12.2)\n",
      "Requirement already satisfied: pyyaml>=5.1 in /home/vijay/anaconda3/lib/python3.9/site-packages (from huggingface-hub>=0.15.1->sentence_transformers) (6.0)\n",
      "Requirement already satisfied: packaging>=20.9 in /home/vijay/anaconda3/lib/python3.9/site-packages (from huggingface-hub>=0.15.1->sentence_transformers) (21.3)\n",
      "Requirement already satisfied: requests in /home/vijay/anaconda3/lib/python3.9/site-packages (from huggingface-hub>=0.15.1->sentence_transformers) (2.32.3)\n",
      "Requirement already satisfied: filelock in /home/vijay/anaconda3/lib/python3.9/site-packages (from huggingface-hub>=0.15.1->sentence_transformers) (3.14.0)\n",
      "Requirement already satisfied: fsspec>=2023.5.0 in /home/vijay/anaconda3/lib/python3.9/site-packages (from huggingface-hub>=0.15.1->sentence_transformers) (2024.6.0)\n",
      "Requirement already satisfied: jinja2 in /home/vijay/anaconda3/lib/python3.9/site-packages (from torch>=1.11.0->sentence_transformers) (2.11.3)\n",
      "Collecting nvidia-cudnn-cu12==8.9.2.26\n",
      "  Using cached nvidia_cudnn_cu12-8.9.2.26-py3-none-manylinux1_x86_64.whl (731.7 MB)\n",
      "Requirement already satisfied: nvidia-cublas-cu12==12.1.3.1 in /home/vijay/anaconda3/lib/python3.9/site-packages (from torch>=1.11.0->sentence_transformers) (12.1.3.1)\n",
      "Requirement already satisfied: nvidia-cuda-runtime-cu12==12.1.105 in /home/vijay/anaconda3/lib/python3.9/site-packages (from torch>=1.11.0->sentence_transformers) (12.1.105)\n",
      "Requirement already satisfied: networkx in /home/vijay/anaconda3/lib/python3.9/site-packages (from torch>=1.11.0->sentence_transformers) (2.8.4)\n",
      "Requirement already satisfied: nvidia-cuda-nvrtc-cu12==12.1.105 in /home/vijay/anaconda3/lib/python3.9/site-packages (from torch>=1.11.0->sentence_transformers) (12.1.105)\n",
      "Requirement already satisfied: nvidia-cusparse-cu12==12.1.0.106 in /home/vijay/anaconda3/lib/python3.9/site-packages (from torch>=1.11.0->sentence_transformers) (12.1.0.106)\n",
      "Requirement already satisfied: nvidia-nccl-cu12==2.20.5 in /home/vijay/anaconda3/lib/python3.9/site-packages (from torch>=1.11.0->sentence_transformers) (2.20.5)\n",
      "Requirement already satisfied: triton==2.3.1 in /home/vijay/anaconda3/lib/python3.9/site-packages (from torch>=1.11.0->sentence_transformers) (2.3.1)\n",
      "Requirement already satisfied: nvidia-nvtx-cu12==12.1.105 in /home/vijay/anaconda3/lib/python3.9/site-packages (from torch>=1.11.0->sentence_transformers) (12.1.105)\n",
      "Requirement already satisfied: sympy in /home/vijay/anaconda3/lib/python3.9/site-packages (from torch>=1.11.0->sentence_transformers) (1.10.1)\n",
      "Requirement already satisfied: nvidia-cuda-cupti-cu12==12.1.105 in /home/vijay/anaconda3/lib/python3.9/site-packages (from torch>=1.11.0->sentence_transformers) (12.1.105)\n",
      "Requirement already satisfied: nvidia-curand-cu12==10.3.2.106 in /home/vijay/anaconda3/lib/python3.9/site-packages (from torch>=1.11.0->sentence_transformers) (10.3.2.106)\n",
      "Collecting nvidia-cusolver-cu12==11.4.5.107\n",
      "  Using cached nvidia_cusolver_cu12-11.4.5.107-py3-none-manylinux1_x86_64.whl (124.2 MB)\n",
      "Requirement already satisfied: nvidia-cufft-cu12==11.0.2.54 in /home/vijay/anaconda3/lib/python3.9/site-packages (from torch>=1.11.0->sentence_transformers) (11.0.2.54)\n",
      "Requirement already satisfied: nvidia-nvjitlink-cu12 in /home/vijay/anaconda3/lib/python3.9/site-packages (from nvidia-cusolver-cu12==11.4.5.107->torch>=1.11.0->sentence_transformers) (12.5.82)\n",
      "Requirement already satisfied: safetensors>=0.4.1 in /home/vijay/anaconda3/lib/python3.9/site-packages (from transformers<5.0.0,>=4.34.0->sentence_transformers) (0.4.3)\n",
      "Requirement already satisfied: regex!=2019.12.17 in /home/vijay/anaconda3/lib/python3.9/site-packages (from transformers<5.0.0,>=4.34.0->sentence_transformers) (2022.7.9)\n",
      "Collecting tokenizers<0.20,>=0.19\n",
      "  Using cached tokenizers-0.19.1-cp39-cp39-manylinux_2_17_x86_64.manylinux2014_x86_64.whl (3.6 MB)\n",
      "Requirement already satisfied: joblib>=0.11 in /home/vijay/anaconda3/lib/python3.9/site-packages (from scikit-learn->sentence_transformers) (1.1.0)\n",
      "Requirement already satisfied: threadpoolctl>=2.0.0 in /home/vijay/anaconda3/lib/python3.9/site-packages (from scikit-learn->sentence_transformers) (2.2.0)\n",
      "Requirement already satisfied: pyparsing!=3.0.5,>=2.0.2 in /home/vijay/anaconda3/lib/python3.9/site-packages (from packaging>=20.9->huggingface-hub>=0.15.1->sentence_transformers) (3.0.9)\n",
      "Requirement already satisfied: MarkupSafe>=0.23 in /home/vijay/anaconda3/lib/python3.9/site-packages (from jinja2->torch>=1.11.0->sentence_transformers) (2.0.1)\n",
      "Requirement already satisfied: urllib3<3,>=1.21.1 in /home/vijay/anaconda3/lib/python3.9/site-packages (from requests->huggingface-hub>=0.15.1->sentence_transformers) (2.2.2)\n",
      "Requirement already satisfied: certifi>=2017.4.17 in /home/vijay/anaconda3/lib/python3.9/site-packages (from requests->huggingface-hub>=0.15.1->sentence_transformers) (2024.6.2)\n",
      "Requirement already satisfied: charset-normalizer<4,>=2 in /home/vijay/anaconda3/lib/python3.9/site-packages (from requests->huggingface-hub>=0.15.1->sentence_transformers) (2.0.4)\n",
      "Requirement already satisfied: idna<4,>=2.5 in /home/vijay/anaconda3/lib/python3.9/site-packages (from requests->huggingface-hub>=0.15.1->sentence_transformers) (3.3)\n",
      "Requirement already satisfied: mpmath>=0.19 in /home/vijay/anaconda3/lib/python3.9/site-packages (from sympy->torch>=1.11.0->sentence_transformers) (1.2.1)\n",
      "Installing collected packages: nvidia-cudnn-cu12, nvidia-cusolver-cu12, huggingface-hub, torch, tokenizers, transformers, sentence_transformers\n",
      "Successfully installed huggingface-hub-0.23.4 nvidia-cudnn-cu12-8.9.2.26 nvidia-cusolver-cu12-11.4.5.107 sentence_transformers-3.0.1 tokenizers-0.19.1 torch-2.3.1 transformers-4.42.4\n"
     ]
    }
   ],
   "source": [
    "!pip install sentence_transformers"
   ]
  },
  {
   "cell_type": "code",
   "execution_count": 5,
   "id": "63c1ac7a",
   "metadata": {},
   "outputs": [],
   "source": [
    "from sentence_transformers import SentenceTransformer"
   ]
  },
  {
   "cell_type": "code",
   "execution_count": 6,
   "id": "4ddb4e48",
   "metadata": {},
   "outputs": [
    {
     "name": "stderr",
     "output_type": "stream",
     "text": [
      "/home/vijay/anaconda3/lib/python3.9/site-packages/torch/cuda/__init__.py:118: UserWarning: CUDA initialization: The NVIDIA driver on your system is too old (found version 11070). Please update your GPU driver by downloading and installing a new version from the URL: http://www.nvidia.com/Download/index.aspx Alternatively, go to: https://pytorch.org to install a PyTorch version that has been compiled with your version of the CUDA driver. (Triggered internally at ../c10/cuda/CUDAFunctions.cpp:108.)\n",
      "  return torch._C._cuda_getDeviceCount() > 0\n"
     ]
    },
    {
     "data": {
      "application/vnd.jupyter.widget-view+json": {
       "model_id": "414c7bc41b974157876b643ebe43bc39",
       "version_major": 2,
       "version_minor": 0
      },
      "text/plain": [
       "modules.json:   0%|          | 0.00/349 [00:00<?, ?B/s]"
      ]
     },
     "metadata": {},
     "output_type": "display_data"
    },
    {
     "data": {
      "application/vnd.jupyter.widget-view+json": {
       "model_id": "6cf649421e08439591f0debd3bda4c3c",
       "version_major": 2,
       "version_minor": 0
      },
      "text/plain": [
       "config_sentence_transformers.json:   0%|          | 0.00/116 [00:00<?, ?B/s]"
      ]
     },
     "metadata": {},
     "output_type": "display_data"
    },
    {
     "data": {
      "application/vnd.jupyter.widget-view+json": {
       "model_id": "4c3dd016634f48a381f336d036ab1b54",
       "version_major": 2,
       "version_minor": 0
      },
      "text/plain": [
       "README.md:   0%|          | 0.00/9.52k [00:00<?, ?B/s]"
      ]
     },
     "metadata": {},
     "output_type": "display_data"
    },
    {
     "data": {
      "application/vnd.jupyter.widget-view+json": {
       "model_id": "46b9e37de11548ac8d03fd079df41bb6",
       "version_major": 2,
       "version_minor": 0
      },
      "text/plain": [
       "sentence_bert_config.json:   0%|          | 0.00/53.0 [00:00<?, ?B/s]"
      ]
     },
     "metadata": {},
     "output_type": "display_data"
    },
    {
     "data": {
      "application/vnd.jupyter.widget-view+json": {
       "model_id": "64f9724fafda40f098ba1a1061dcda27",
       "version_major": 2,
       "version_minor": 0
      },
      "text/plain": [
       "config.json:   0%|          | 0.00/523 [00:00<?, ?B/s]"
      ]
     },
     "metadata": {},
     "output_type": "display_data"
    },
    {
     "data": {
      "application/vnd.jupyter.widget-view+json": {
       "model_id": "18426e0916f74d1197db5eb0a364a3ed",
       "version_major": 2,
       "version_minor": 0
      },
      "text/plain": [
       "model.safetensors:   0%|          | 0.00/265M [00:00<?, ?B/s]"
      ]
     },
     "metadata": {},
     "output_type": "display_data"
    },
    {
     "data": {
      "application/vnd.jupyter.widget-view+json": {
       "model_id": "f0c8006feaf142dab817609b282572f4",
       "version_major": 2,
       "version_minor": 0
      },
      "text/plain": [
       "tokenizer_config.json:   0%|          | 0.00/333 [00:00<?, ?B/s]"
      ]
     },
     "metadata": {},
     "output_type": "display_data"
    },
    {
     "data": {
      "application/vnd.jupyter.widget-view+json": {
       "model_id": "b2a1722a3fcf42e199c9b3ad525c14f2",
       "version_major": 2,
       "version_minor": 0
      },
      "text/plain": [
       "vocab.txt:   0%|          | 0.00/232k [00:00<?, ?B/s]"
      ]
     },
     "metadata": {},
     "output_type": "display_data"
    },
    {
     "data": {
      "application/vnd.jupyter.widget-view+json": {
       "model_id": "a95b0b3394b34116810bc448c72f460a",
       "version_major": 2,
       "version_minor": 0
      },
      "text/plain": [
       "tokenizer.json:   0%|          | 0.00/466k [00:00<?, ?B/s]"
      ]
     },
     "metadata": {},
     "output_type": "display_data"
    },
    {
     "data": {
      "application/vnd.jupyter.widget-view+json": {
       "model_id": "a1b4939c251d4d9d8d2bf8d639c4b2d5",
       "version_major": 2,
       "version_minor": 0
      },
      "text/plain": [
       "special_tokens_map.json:   0%|          | 0.00/112 [00:00<?, ?B/s]"
      ]
     },
     "metadata": {},
     "output_type": "display_data"
    },
    {
     "data": {
      "application/vnd.jupyter.widget-view+json": {
       "model_id": "dab57361fdc2426aaf2b35c1b7b19713",
       "version_major": 2,
       "version_minor": 0
      },
      "text/plain": [
       "1_Pooling/config.json:   0%|          | 0.00/190 [00:00<?, ?B/s]"
      ]
     },
     "metadata": {},
     "output_type": "display_data"
    }
   ],
   "source": [
    "model_name = 'multi-qa-distilbert-cos-v1'\n",
    "embedding_model = SentenceTransformer(model_name)"
   ]
  },
  {
   "cell_type": "code",
   "execution_count": 7,
   "id": "fd59f3c4",
   "metadata": {},
   "outputs": [],
   "source": [
    "user_question = \"I just discovered the course. Can I still join it?\""
   ]
  },
  {
   "cell_type": "code",
   "execution_count": 31,
   "id": "3f7bd4e5",
   "metadata": {
    "collapsed": true
   },
   "outputs": [
    {
     "data": {
      "text/plain": [
       "array([ 7.82226399e-02, -4.01311480e-02,  3.86135764e-02, -1.78970673e-04,\n",
       "        8.92346874e-02, -5.04591279e-02, -1.05026430e-02,  3.71055752e-02,\n",
       "       -4.18714061e-02,  3.48084643e-02, -1.20701715e-02, -2.36942228e-02,\n",
       "        3.87900136e-02,  1.60988551e-02,  3.50747444e-02,  3.04743554e-03,\n",
       "        5.79672270e-02, -4.10627685e-02, -3.41552570e-02, -2.56396532e-02,\n",
       "       -3.55263948e-02,  1.42907938e-02, -1.62799824e-02,  3.21446583e-02,\n",
       "       -4.66897674e-02,  7.89185911e-02,  4.90161031e-02,  1.56761073e-02,\n",
       "       -1.69109963e-02,  2.26482097e-02,  5.60206026e-02, -3.98361459e-02,\n",
       "        6.77409843e-02, -1.20209809e-02,  1.12621638e-03, -1.94394235e-02,\n",
       "       -2.65951622e-02,  1.06177563e-02,  1.69687159e-02,  1.13487858e-02,\n",
       "       -2.97063068e-02,  5.25258034e-02, -1.41453659e-02,  4.61699963e-02,\n",
       "        1.17065832e-02, -2.38053538e-02, -6.32558018e-02, -1.92041844e-02,\n",
       "       -7.10589159e-03,  3.24167833e-02,  2.49618236e-02, -5.27498499e-03,\n",
       "        2.01149192e-02, -3.72371189e-02,  3.46405394e-02, -3.29310186e-02,\n",
       "       -2.01484747e-02,  5.07841213e-03, -4.55506742e-02,  7.89169408e-03,\n",
       "       -4.91713695e-02,  4.69897054e-02, -3.79273342e-06,  2.48839408e-02,\n",
       "       -2.96471398e-02,  6.69760350e-03,  3.58087756e-02, -7.18097109e-03,\n",
       "       -3.03277317e-02,  7.95787852e-03,  3.36150825e-02, -2.25491039e-02,\n",
       "       -3.62098217e-02, -2.03929041e-02, -2.70677148e-03, -8.15981850e-02,\n",
       "       -1.43993115e-02,  4.90568727e-02, -2.11568847e-02,  9.31678806e-04,\n",
       "        6.57264888e-02,  4.69609872e-02,  1.23655051e-02, -2.84592994e-02,\n",
       "       -2.57528722e-02,  1.46925757e-02, -5.53987361e-02, -3.05970199e-02,\n",
       "        5.75574152e-02,  2.81941146e-02, -1.30106872e-02, -2.08615046e-02,\n",
       "       -2.43033618e-02, -2.40275171e-02,  4.11577038e-02, -5.92422746e-02,\n",
       "       -1.69009506e-03,  4.00552079e-02,  2.43852716e-02, -1.10904993e-02,\n",
       "       -2.93892846e-02,  2.01826785e-02,  4.22848342e-03,  2.95343194e-02,\n",
       "        3.16523314e-02,  3.00929993e-02,  8.98853876e-03, -8.30620900e-02,\n",
       "       -2.24144515e-02,  1.82182752e-02, -5.66515625e-02, -4.21271995e-02,\n",
       "        3.27232964e-02, -2.10854579e-02, -4.79221391e-03,  1.90163180e-02,\n",
       "        4.55397554e-02, -9.62485559e-03, -2.30315886e-02, -3.52343097e-02,\n",
       "       -3.91418859e-02, -3.46547738e-02,  2.47355103e-02,  4.71566916e-02,\n",
       "        3.46270688e-02,  5.29964305e-02, -2.86405273e-02, -1.71784628e-02,\n",
       "       -1.30146286e-02, -5.79404756e-02,  3.99250574e-02, -5.88766374e-02,\n",
       "        4.57601808e-02,  2.09622420e-02, -1.52759645e-02,  3.25414874e-02,\n",
       "        2.08252836e-02, -2.48041973e-02, -4.24147062e-02,  2.95955054e-02,\n",
       "       -4.62034307e-02,  3.17028612e-02, -7.64971972e-03,  5.84935676e-03,\n",
       "       -3.90674025e-02,  8.11777078e-03, -3.60446721e-02,  6.34326041e-02,\n",
       "       -4.23139036e-02, -1.57089543e-03,  9.18294210e-03, -2.99421158e-02,\n",
       "       -2.27955338e-02, -9.86715872e-03,  2.94452179e-02,  1.75152943e-02,\n",
       "       -1.93444323e-02,  2.40449980e-02,  2.92803142e-02,  4.78751841e-04,\n",
       "        2.55402680e-02, -3.34960222e-02,  3.04800104e-02, -9.45274998e-03,\n",
       "        3.35257165e-02,  5.77760488e-02, -1.58551224e-02, -7.15148449e-02,\n",
       "        6.71685964e-04, -7.77697377e-03, -5.37220500e-02, -1.58578884e-02,\n",
       "        2.93349139e-02, -5.35059534e-02, -2.82785017e-02, -3.81729193e-02,\n",
       "        1.05941913e-03,  3.31669906e-03,  2.60325223e-02, -2.05704626e-02,\n",
       "       -2.55044010e-02, -2.73665171e-02,  2.12153047e-02, -3.17961536e-02,\n",
       "       -2.71619149e-02, -3.00257001e-02, -5.35569862e-02,  1.62939522e-02,\n",
       "        2.55573005e-03,  7.67828003e-02,  3.24226283e-02,  3.80413979e-02,\n",
       "       -2.25355439e-02, -4.81641926e-02,  2.26790514e-02,  1.25548542e-02,\n",
       "       -4.78155911e-02,  4.13825773e-02, -9.52939875e-03,  3.37111205e-02,\n",
       "        3.21243443e-02,  5.91824800e-02, -7.25298077e-02, -7.38686789e-03,\n",
       "       -3.22184190e-02,  3.09308898e-02,  5.23214266e-02,  3.24244089e-02,\n",
       "       -3.95455174e-02, -2.63985302e-02, -2.35443097e-02,  2.39193183e-03,\n",
       "        3.20997089e-02,  8.44294112e-03,  9.85343754e-03,  1.95927545e-02,\n",
       "        3.99371497e-02,  4.52750139e-02,  3.52183431e-02,  1.67367421e-02,\n",
       "        2.65720971e-02, -8.88596661e-03, -1.27367107e-02, -5.89371175e-02,\n",
       "       -2.89509650e-02,  2.18168106e-02, -4.62896414e-02, -5.12744486e-03,\n",
       "       -2.73846369e-02, -4.35681120e-02, -3.33959684e-02,  2.61665182e-03,\n",
       "        6.77052066e-02, -6.68668607e-03,  4.25815694e-02, -8.47997516e-03,\n",
       "       -4.45969999e-02, -4.92077246e-02,  2.54241489e-02,  3.41309495e-02,\n",
       "        4.66176346e-02,  3.41222435e-02, -3.89920473e-02,  6.68450743e-02,\n",
       "        6.32637739e-02, -1.53560555e-02, -6.43514039e-04,  1.88044757e-02,\n",
       "        1.10457577e-02, -2.76161525e-02,  4.89471778e-02, -6.65619150e-02,\n",
       "        4.41557635e-03, -8.06403067e-03, -7.56582916e-02,  5.20581529e-02,\n",
       "       -1.68674700e-02, -1.51841277e-02,  2.59556212e-02,  4.38797846e-03,\n",
       "        1.29939513e-02,  2.37958133e-02, -3.92605700e-02,  3.40803596e-03,\n",
       "       -4.65255417e-02, -5.80669045e-02, -4.86324243e-02,  3.85592841e-02,\n",
       "        1.58163607e-02, -3.55918072e-02, -6.13348894e-02, -4.66559120e-02,\n",
       "        3.48289013e-02, -3.00835278e-02, -3.80522050e-02,  5.35571054e-02,\n",
       "       -4.42222878e-02, -4.11476828e-02,  2.34689973e-02,  4.05147730e-05,\n",
       "       -2.18802388e-03, -2.06339662e-03, -4.33782488e-02, -6.21996354e-04,\n",
       "       -4.64339741e-02,  8.27862918e-02, -1.49072856e-02,  3.24270613e-02,\n",
       "        1.35792959e-02, -1.49169168e-03,  8.62602517e-02,  6.92182928e-02,\n",
       "        4.57404694e-03,  3.55521333e-03,  6.91157430e-02, -9.68691260e-02,\n",
       "        3.21000889e-02, -1.90142579e-02,  7.19640255e-02,  7.18858615e-02,\n",
       "        2.10939087e-02, -8.37244792e-04, -2.27937195e-02,  1.27857318e-02,\n",
       "        9.23394412e-02, -5.41784056e-02,  4.61493619e-02, -7.08943233e-03,\n",
       "       -3.20987105e-02, -3.81699502e-02, -4.22405191e-02,  5.16356118e-02,\n",
       "        1.07125277e-02, -5.59868813e-02, -2.29028370e-02,  3.15916650e-02,\n",
       "       -5.60135394e-02,  1.22199235e-02, -1.85765605e-02, -3.86151718e-03,\n",
       "        5.66245541e-02,  3.09959892e-02,  3.28162611e-02,  5.95071204e-02,\n",
       "       -1.15265856e-02,  2.45991256e-02,  1.98686519e-03,  3.61350439e-02,\n",
       "        7.19022229e-02,  6.74677501e-03, -2.22808979e-02,  3.80802751e-02,\n",
       "       -3.19978818e-02,  4.77899797e-02, -4.88461778e-02, -2.62966417e-02,\n",
       "       -9.14798863e-03, -3.70225236e-02, -2.10672952e-02,  3.66252474e-02,\n",
       "       -2.93565728e-03,  1.90015547e-02, -4.06738631e-02, -9.88850649e-03,\n",
       "       -1.32069830e-02, -1.84205472e-02, -3.04456819e-02, -1.17648030e-02,\n",
       "       -2.16220655e-02, -1.32908029e-02, -4.90810610e-02,  3.75495404e-02,\n",
       "        2.36799456e-02,  6.20988896e-03,  1.94518827e-02,  1.11171342e-02,\n",
       "       -1.27271311e-02, -1.16940914e-02, -4.15579230e-02,  3.03729577e-03,\n",
       "        3.35785449e-02,  2.02150755e-02, -5.23533672e-02, -1.03417812e-02,\n",
       "       -3.44100632e-02, -1.83595046e-02,  1.93087198e-03,  3.44448276e-02,\n",
       "       -2.83048116e-02,  7.25738192e-03,  5.40008694e-02, -2.32120305e-02,\n",
       "       -2.37849299e-02,  5.14848856e-03, -1.04726758e-02, -3.04511376e-02,\n",
       "       -1.45227723e-02,  5.83771877e-02,  6.24929694e-03,  1.76533740e-02,\n",
       "        2.71377880e-02, -2.07602717e-02, -4.82953573e-03,  4.38607559e-02,\n",
       "        4.89790551e-02, -1.84726212e-02,  2.23985165e-02,  2.48786975e-02,\n",
       "       -7.83606712e-03,  2.70838328e-02,  8.69912580e-02,  5.14607765e-02,\n",
       "        2.68816613e-02, -2.45198999e-02,  1.98571030e-02,  2.55422909e-02,\n",
       "       -4.49709557e-02,  1.18260011e-02, -5.71240336e-02,  6.86877742e-02,\n",
       "        2.32738592e-02,  4.34287265e-02,  1.60184186e-02,  3.36551368e-02,\n",
       "        1.18745174e-02,  1.84787270e-02,  2.18717288e-02,  8.06099083e-03,\n",
       "        2.65187062e-02, -1.67911015e-02, -1.14257680e-02,  5.79696000e-02,\n",
       "        2.19955724e-02, -7.88591802e-02,  4.26271185e-02, -7.00563118e-02,\n",
       "        5.12132086e-02,  2.96157859e-02,  4.99608442e-02,  9.40511655e-03,\n",
       "       -4.73498441e-02,  4.21217158e-02, -1.81927271e-02, -7.69211054e-02,\n",
       "        9.72860213e-03, -6.79067373e-02,  1.55991651e-02,  2.72872970e-02,\n",
       "        4.54441085e-03, -2.10021692e-03,  7.53396824e-02,  1.33481051e-03,\n",
       "       -1.99394878e-02, -5.24484552e-02,  3.05673853e-03,  1.98292173e-02,\n",
       "        2.39940304e-02,  1.24235908e-02,  1.47050293e-02,  1.03529366e-02,\n",
       "       -4.38815281e-02,  4.75225523e-02,  3.21549065e-02,  6.52129471e-04,\n",
       "       -2.02529747e-02,  4.32258956e-02, -2.71596685e-02,  1.38091836e-02,\n",
       "       -3.86391655e-02,  2.84993201e-02, -2.27451161e-03,  3.99671867e-02,\n",
       "        1.53477313e-02,  1.32415928e-02, -7.11276755e-02,  3.93648557e-02,\n",
       "        2.51131430e-02, -2.36388315e-02,  1.80941578e-02, -2.43954416e-02,\n",
       "        2.19317153e-03,  3.75051945e-02,  1.56091936e-02,  7.14065693e-03,\n",
       "       -3.41359824e-02,  7.57615967e-03,  2.62274519e-02,  1.14289252e-02,\n",
       "        3.52655500e-02,  2.13690870e-03, -4.56283521e-03, -2.63882671e-02,\n",
       "        6.55588806e-02,  6.00263774e-02, -3.54714543e-02, -1.01350788e-02,\n",
       "        2.56268978e-02, -1.02697179e-01,  3.54785323e-02, -6.22319281e-02,\n",
       "       -1.14734108e-02, -3.44268209e-03,  1.05504249e-03, -2.81981635e-03,\n",
       "        6.26723096e-02, -4.57265601e-02,  1.70463156e-02, -8.05482864e-02,\n",
       "        1.55107845e-02, -2.58667336e-04,  2.01546885e-02,  8.79567116e-03,\n",
       "        2.62557752e-02,  8.31542420e-04, -3.23720016e-02, -5.27925827e-02,\n",
       "        1.55638577e-02,  1.15739089e-02, -2.99568265e-03, -8.24661087e-03,\n",
       "       -3.26189250e-02, -7.73414373e-02, -4.12966870e-02, -2.21012458e-02,\n",
       "        4.75403387e-03, -1.25991292e-02,  1.07523408e-02,  4.99581769e-02,\n",
       "        2.15218868e-02,  2.69317999e-02,  3.28038707e-02,  7.46343192e-03,\n",
       "        1.83876902e-02, -2.74957791e-02, -9.13314708e-03, -1.22790784e-02,\n",
       "        2.07576249e-02,  1.40681649e-02,  1.09914066e-02, -2.26452295e-02,\n",
       "        6.41365945e-02, -1.79608054e-02, -4.23230380e-02, -1.88531610e-03,\n",
       "       -3.59299891e-02,  1.20294262e-02,  1.00361537e-02,  6.56100437e-02,\n",
       "        2.87165884e-02,  2.78465245e-02, -5.23849763e-02,  3.18163298e-02,\n",
       "       -4.65676002e-02,  1.38316983e-02,  2.83224620e-02,  7.78381201e-03,\n",
       "       -9.74425580e-03, -3.97435725e-02, -2.49803830e-02, -2.32911445e-02,\n",
       "       -2.11589001e-02, -6.84604980e-03, -1.95434801e-02, -2.29271930e-02,\n",
       "       -1.46510061e-02, -2.22448967e-02, -1.09536573e-02, -3.67134698e-02,\n",
       "       -1.84324831e-02, -1.04103191e-02, -8.88102502e-03, -1.47620775e-02,\n",
       "       -2.92523876e-02,  1.00569353e-02,  2.28201170e-02,  1.42325403e-03,\n",
       "       -2.35474966e-02, -2.39605568e-02,  5.40141314e-02, -2.16813087e-02,\n",
       "        1.94904674e-02, -3.11479308e-02, -1.54089956e-02, -1.45636043e-02,\n",
       "        5.81609942e-02,  3.05503141e-02, -5.09664975e-03, -1.68099739e-02,\n",
       "       -3.46655473e-02, -2.07241382e-02, -4.60087731e-02,  2.22176244e-03,\n",
       "       -4.44852673e-02,  1.13986563e-02,  3.25434618e-02, -7.11341351e-02,\n",
       "       -2.52612736e-02, -1.93929225e-02,  1.29123377e-02, -3.82378735e-02,\n",
       "       -1.61820929e-02,  3.58506665e-02,  5.04317321e-02, -4.06111078e-03,\n",
       "        1.62504259e-02, -7.24662393e-02,  2.72171758e-02,  1.78223494e-02,\n",
       "        1.37028899e-02,  2.36819871e-02,  2.59892736e-02,  4.08842787e-02,\n",
       "        6.46982156e-03, -1.15187857e-02, -2.65878756e-02,  9.67551488e-03,\n",
       "       -5.31226024e-02,  8.27155542e-04,  1.87266059e-02, -2.92990264e-03,\n",
       "        2.49404777e-02, -1.47512266e-02,  1.41259171e-02,  4.05030288e-02,\n",
       "       -1.27288355e-02, -6.76722527e-02,  4.83829528e-02,  4.07700352e-02,\n",
       "        1.98605284e-02,  3.03294025e-02,  2.63721067e-02,  5.23594208e-02,\n",
       "       -3.34631205e-02, -9.35079902e-03,  1.69177577e-02,  4.34683673e-02,\n",
       "        3.83584723e-02,  4.47562560e-02,  1.90879181e-02, -1.47993714e-02,\n",
       "       -4.34137322e-03,  1.08403563e-02,  4.95931832e-03, -1.63312349e-02,\n",
       "       -1.97147531e-03, -4.17675190e-02,  6.56751022e-02, -6.79403469e-02,\n",
       "        4.33397153e-03, -1.69463288e-02,  2.51758751e-02,  2.56763883e-02,\n",
       "        1.15080690e-03, -1.54735334e-02, -7.34512927e-03, -5.32572605e-02,\n",
       "        3.48776579e-03, -1.38180330e-02, -5.89081831e-02,  2.92865676e-03,\n",
       "        5.04818894e-02,  3.35812801e-03, -8.88556466e-02, -3.84001024e-02,\n",
       "       -2.22147554e-02, -2.82134376e-02, -5.42563526e-03,  2.85600964e-02,\n",
       "       -4.50810455e-02,  7.93288054e-04,  8.93172547e-02,  1.16105052e-02,\n",
       "       -3.18008550e-02,  2.66567785e-02,  2.71802712e-02,  1.89267509e-02,\n",
       "       -2.06058268e-02, -3.02396491e-02, -2.85009835e-02, -3.13029550e-02,\n",
       "       -1.97963044e-02, -6.64773956e-03, -1.67978369e-02, -1.99807826e-02,\n",
       "       -5.34576029e-02, -4.45708720e-04, -2.96823084e-02,  4.37867232e-02,\n",
       "       -1.00503908e-02, -1.09997168e-02,  2.21026056e-02, -3.46548855e-02,\n",
       "        2.11835634e-02,  1.56232873e-02,  2.64695529e-02, -2.34831758e-02,\n",
       "        2.44938247e-02,  4.38888110e-02,  7.06145586e-03, -1.21593466e-02,\n",
       "        1.87902339e-02, -6.91950787e-03,  1.30047603e-02,  1.27161015e-02,\n",
       "       -2.23633577e-03,  2.10030638e-02,  6.99695721e-02,  3.16452198e-02,\n",
       "       -2.35833116e-02,  4.63552540e-03, -6.60421606e-03, -3.26112360e-02,\n",
       "        7.33723417e-02, -8.55091363e-02, -4.05770354e-02,  2.57487446e-02,\n",
       "       -5.12588583e-02,  6.70370013e-02, -1.24506075e-02, -8.91838595e-02,\n",
       "        5.48583083e-02, -4.54949588e-02, -3.45565379e-02, -7.73074999e-02,\n",
       "        4.11658101e-02, -4.30639312e-02,  2.70703118e-02,  3.20440084e-02,\n",
       "       -4.77701984e-02, -1.56586245e-02,  1.72707140e-02, -5.23966886e-02,\n",
       "       -7.17989728e-02,  4.30009188e-03,  7.25587015e-05,  5.29346839e-02,\n",
       "       -3.14253308e-02,  1.90561060e-02,  2.56206673e-02,  7.90970027e-02,\n",
       "        2.13809609e-02, -2.44315490e-02, -1.42572969e-02,  3.64167131e-02,\n",
       "        4.89886701e-02,  2.09607519e-02, -4.13178913e-02,  4.09341156e-02,\n",
       "       -1.21459827e-01,  6.68874383e-02, -3.10814939e-04, -6.26347819e-03,\n",
       "        3.98600511e-02,  5.48594445e-02, -1.15817979e-01,  5.31956479e-02,\n",
       "       -4.32696566e-02,  4.33376208e-02,  2.90152822e-02, -8.89771283e-02,\n",
       "       -2.17882618e-02,  1.54281268e-02,  3.62119824e-02, -9.14942101e-02,\n",
       "       -3.93842999e-03, -3.60860527e-02, -7.26092234e-03,  8.90836678e-03,\n",
       "       -5.32953702e-02,  3.61573175e-02,  8.56206119e-02, -1.42062297e-02,\n",
       "        2.44349036e-02,  1.94477069e-03,  5.81037514e-02, -2.16630995e-02,\n",
       "        2.43256353e-02, -2.31522648e-03, -1.37544214e-03,  5.89746274e-02,\n",
       "        8.06518272e-03, -5.71863912e-03,  2.14907713e-02, -2.76927054e-02,\n",
       "       -3.97252478e-02,  3.13828140e-02,  1.40227436e-03,  5.06811179e-02],\n",
       "      dtype=float32)"
      ]
     },
     "execution_count": 31,
     "metadata": {},
     "output_type": "execute_result"
    }
   ],
   "source": [
    "v = embedding_model.encode(user_question)\n"
   ]
  },
  {
   "cell_type": "code",
   "execution_count": 10,
   "id": "bce8cb93",
   "metadata": {},
   "outputs": [
    {
     "data": {
      "text/plain": [
       "768"
      ]
     },
     "execution_count": 10,
     "metadata": {},
     "output_type": "execute_result"
    }
   ],
   "source": [
    "len(v)"
   ]
  },
  {
   "cell_type": "code",
   "execution_count": 11,
   "id": "3dd598b4",
   "metadata": {},
   "outputs": [
    {
     "data": {
      "text/plain": [
       "0.07822264"
      ]
     },
     "execution_count": 11,
     "metadata": {},
     "output_type": "execute_result"
    }
   ],
   "source": [
    "v[0]"
   ]
  },
  {
   "cell_type": "code",
   "execution_count": 78,
   "id": "5ff7720d",
   "metadata": {},
   "outputs": [],
   "source": [
    "import requests \n",
    "\n",
    "base_url = 'https://github.com/DataTalksClub/llm-zoomcamp/blob/main'\n",
    "relative_url = '03-vector-search/eval/documents-with-ids.json'\n",
    "docs_url = f'{base_url}/{relative_url}?raw=1'\n",
    "docs_response = requests.get(docs_url)\n",
    "documents = docs_response.json()"
   ]
  },
  {
   "cell_type": "code",
   "execution_count": 79,
   "id": "6bfe72ec",
   "metadata": {},
   "outputs": [
    {
     "data": {
      "text/plain": [
       "375"
      ]
     },
     "execution_count": 79,
     "metadata": {},
     "output_type": "execute_result"
    }
   ],
   "source": [
    "doc_results = []\n",
    "for result in documents:\n",
    "    if result['course'] == \"machine-learning-zoomcamp\":\n",
    "        doc_results.append(result)\n",
    "len(doc_results)"
   ]
  },
  {
   "cell_type": "code",
   "execution_count": 37,
   "id": "4f2c522c",
   "metadata": {},
   "outputs": [
    {
     "data": {
      "application/vnd.jupyter.widget-view+json": {
       "model_id": "52ab5f8d29354867a3af99034c457771",
       "version_major": 2,
       "version_minor": 0
      },
      "text/plain": [
       "  0%|          | 0/375 [00:00<?, ?it/s]"
      ]
     },
     "metadata": {},
     "output_type": "display_data"
    }
   ],
   "source": [
    "from tqdm.auto import tqdm\n",
    "embeddings = []\n",
    "\n",
    "for doc in tqdm(doc_results):\n",
    "        question = doc['question']\n",
    "        text = doc['text']\n",
    "        qa_text = f'{question} {text}'\n",
    "        v_qt = embedding_model.encode(qa_text)\n",
    "        embeddings.append(v_qt)\n",
    "    "
   ]
  },
  {
   "cell_type": "code",
   "execution_count": 40,
   "id": "85841acd",
   "metadata": {},
   "outputs": [
    {
     "data": {
      "text/plain": [
       "(375, 768)"
      ]
     },
     "execution_count": 40,
     "metadata": {},
     "output_type": "execute_result"
    }
   ],
   "source": [
    "import numpy as np\n",
    "X = np.array(embeddings)\n",
    "(X.shape)"
   ]
  },
  {
   "cell_type": "code",
   "execution_count": 41,
   "id": "9ff23d53",
   "metadata": {},
   "outputs": [],
   "source": [
    "scores = X.dot(v)"
   ]
  },
  {
   "cell_type": "code",
   "execution_count": 43,
   "id": "67870073",
   "metadata": {},
   "outputs": [
    {
     "data": {
      "text/plain": [
       "0.6506573"
      ]
     },
     "execution_count": 43,
     "metadata": {},
     "output_type": "execute_result"
    }
   ],
   "source": [
    "np.max(scores)"
   ]
  },
  {
   "cell_type": "code",
   "execution_count": 80,
   "id": "ea441e14",
   "metadata": {},
   "outputs": [
    {
     "data": {
      "text/plain": [
       "[{'text': 'Yes, you can. You won’t be able to submit some of the homeworks, but you can still take part in the course.\\nIn order to get a certificate, you need to submit 2 out of 3 course projects and review 3 peers’ Projects by the deadline. It means that if you join the course at the end of November and manage to work on two projects, you will still be eligible for a certificate.',\n",
       "  'section': 'General course-related questions',\n",
       "  'question': 'The course has already started. Can I still join it?',\n",
       "  'course': 'machine-learning-zoomcamp',\n",
       "  'id': 'ee58a693'},\n",
       " {'text': 'Welcome to the course! Go to the course page (http://mlzoomcamp.com/), scroll down and start going through the course materials. Then read everything in the cohort folder for your cohort’s year.\\nClick on the links and start watching the videos. Also watch office hours from previous cohorts. Go to DTC youtube channel and click on Playlists and search for {course yyyy}. ML Zoomcamp was first launched in 2021.\\nOr you can just use this link: http://mlzoomcamp.com/#syllabus',\n",
       "  'section': 'General course-related questions',\n",
       "  'question': 'I just joined. What should I do next? How can I access course materials?',\n",
       "  'course': 'machine-learning-zoomcamp',\n",
       "  'id': '0a278fb2'},\n",
       " {'text': \"The process is automated now, so you should receive the email eventually. If you haven’t, check your promotions tab in Gmail as well as spam.\\nIf you unsubscribed from our newsletter, you won't get course related updates too.\\nBut don't worry, it’s not a problem. To make sure you don’t miss anything, join the #course-ml-zoomcamp channel in Slack and our telegram channel with announcements. This is enough to follow the course.\",\n",
       "  'section': 'General course-related questions',\n",
       "  'question': \"I filled the form, but haven't received a confirmation email. Is it normal?\",\n",
       "  'course': 'machine-learning-zoomcamp',\n",
       "  'id': '6ba259b1'},\n",
       " {'text': 'Technically, yes. Advisable? Not really. Reasons:\\nSome homework(s) asks for specific python library versions.\\nAnswers may not match in MCQ options if using different languages other than Python 3.10 (the recommended version for 2023 cohort)\\nAnd as for midterms/capstones, your peer-reviewers may not know these other languages. Do you want to be penalized for others not knowing these other languages?\\nYou can create a separate repo using course’s lessons but written in other languages for your own learnings, but not advisable for submissions.\\ntx[source]',\n",
       "  'section': 'Miscellaneous',\n",
       "  'question': 'Can I do the course in other languages, like R or Scala?',\n",
       "  'course': 'machine-learning-zoomcamp',\n",
       "  'id': '9f261648'},\n",
       " {'text': 'We won’t re-record the course videos. The focus of the course and the skills we want to teach remained the same, and the videos are still up-to-date.\\nIf you haven’t taken part in the previous iteration, you can start watching the videos. It’ll be useful for you and you will learn new things. However, we recommend using Python 3.10 now instead of Python 3.8.',\n",
       "  'section': 'General course-related questions',\n",
       "  'question': 'The course videos are from the previous iteration. Will you release new ones or we’ll use the videos from 2021?',\n",
       "  'course': 'machine-learning-zoomcamp',\n",
       "  'id': 'e7ba6b8a'}]"
      ]
     },
     "execution_count": 80,
     "metadata": {},
     "output_type": "execute_result"
    }
   ],
   "source": [
    "class VectorSearchEngine():\n",
    "    def __init__(self, documents, embeddings):\n",
    "        self.documents = documents\n",
    "        self.embeddings = embeddings\n",
    "\n",
    "    def search(self, v_query, num_results=10):\n",
    "        scores = self.embeddings.dot(v_query)\n",
    "        idx = np.argsort(-scores)[:num_results]\n",
    "        return [self.documents[i] for i in idx]\n",
    "\n",
    "search_engine = VectorSearchEngine(documents=doc_results, embeddings=X)\n",
    "search_engine.search(v, num_results=5)"
   ]
  },
  {
   "cell_type": "code",
   "execution_count": 81,
   "id": "9ea6fb28",
   "metadata": {},
   "outputs": [],
   "source": [
    "import pandas as pd\n",
    "\n",
    "base_url = 'https://github.com/DataTalksClub/llm-zoomcamp/blob/main'\n",
    "relative_url = '03-vector-search/eval/ground-truth-data.csv'\n",
    "ground_truth_url = f'{base_url}/{relative_url}?raw=1'\n",
    "\n",
    "df_ground_truth = pd.read_csv(ground_truth_url)\n",
    "df_ground_truth = df_ground_truth[df_ground_truth.course == 'machine-learning-zoomcamp']\n",
    "ground_truth = df_ground_truth.to_dict(orient='records')"
   ]
  },
  {
   "cell_type": "code",
   "execution_count": 82,
   "id": "6cc18534",
   "metadata": {},
   "outputs": [],
   "source": [
    "def hit_rate(relevance_total):\n",
    "    cnt = 0\n",
    "\n",
    "    for line in relevance_total:\n",
    "        if True in line:\n",
    "            cnt = cnt + 1\n",
    "\n",
    "    return cnt / len(relevance_total)"
   ]
  },
  {
   "cell_type": "code",
   "execution_count": 60,
   "id": "bd18dd23",
   "metadata": {},
   "outputs": [],
   "source": [
    "def evaluate(ground_truth, search_function):\n",
    "    relevance_total = []\n",
    "\n",
    "    for q in tqdm(ground_truth):\n",
    "        doc_id = q['document']\n",
    "        results = search_function(q)\n",
    "        relevance = [d['id'] == doc_id for d in results]\n",
    "        relevance_total.append(relevance)\n",
    "\n",
    "    return {\n",
    "        'hit_rate': hit_rate(relevance_total)\n",
    "    }"
   ]
  },
  {
   "cell_type": "code",
   "execution_count": 61,
   "id": "69de857f",
   "metadata": {},
   "outputs": [
    {
     "data": {
      "application/vnd.jupyter.widget-view+json": {
       "model_id": "dc21912ddefd43d9a266869c2fd1f9e5",
       "version_major": 2,
       "version_minor": 0
      },
      "text/plain": [
       "  0%|          | 0/1830 [00:00<?, ?it/s]"
      ]
     },
     "metadata": {},
     "output_type": "display_data"
    },
    {
     "data": {
      "text/plain": [
       "{'hit_rate': 0.9398907103825137}"
      ]
     },
     "execution_count": 61,
     "metadata": {},
     "output_type": "execute_result"
    }
   ],
   "source": [
    "def question_text(q):\n",
    "    question = q['question']\n",
    "\n",
    "    v_q = embedding_model.encode(question)\n",
    "\n",
    "    return search_engine.search(v_q, num_results=5)\n",
    "\n",
    "evaluate(ground_truth, question_text)"
   ]
  },
  {
   "cell_type": "code",
   "execution_count": 88,
   "id": "52ea35a0",
   "metadata": {},
   "outputs": [
    {
     "data": {
      "text/plain": [
       "ObjectApiResponse({'acknowledged': True, 'shards_acknowledged': True, 'index': 'course-questions'})"
      ]
     },
     "execution_count": 88,
     "metadata": {},
     "output_type": "execute_result"
    }
   ],
   "source": [
    "from elasticsearch import Elasticsearch\n",
    "\n",
    "es_client = Elasticsearch('http://localhost:9200') \n",
    "\n",
    "index_settings = {\n",
    "    \"settings\": {\n",
    "        \"number_of_shards\": 1,\n",
    "        \"number_of_replicas\": 0\n",
    "    },\n",
    "    \"mappings\": {\n",
    "        \"properties\": {\n",
    "            \"text\": {\"type\": \"text\"},\n",
    "            \"section\": {\"type\": \"text\"},\n",
    "            \"question\": {\"type\": \"text\"},\n",
    "            \"course\": {\"type\": \"keyword\"},\n",
    "            \"id\": {\"type\": \"keyword\"},\n",
    "            \"question_text_vector\": {\n",
    "                \"type\": \"dense_vector\",\n",
    "                \"dims\": 768,\n",
    "                \"index\": True,\n",
    "                \"similarity\": \"cosine\"\n",
    "            },\n",
    "        }\n",
    "    }\n",
    "}\n",
    "\n",
    "index_name = \"course-questions\"\n",
    "\n",
    "es_client.indices.delete(index=index_name, ignore_unavailable=True)\n",
    "es_client.indices.create(index=index_name, body=index_settings)"
   ]
  },
  {
   "cell_type": "code",
   "execution_count": 91,
   "id": "8042a607",
   "metadata": {},
   "outputs": [
    {
     "data": {
      "application/vnd.jupyter.widget-view+json": {
       "model_id": "d7b05ab2fe3046ac9e6009d304796240",
       "version_major": 2,
       "version_minor": 0
      },
      "text/plain": [
       "  0%|          | 0/375 [00:00<?, ?it/s]"
      ]
     },
     "metadata": {},
     "output_type": "display_data"
    }
   ],
   "source": [
    "from tqdm.auto import tqdm\n",
    "\n",
    "for doc in tqdm(doc_results):\n",
    "    question = doc['question']\n",
    "    text = doc['text']\n",
    "    qt = question + ' ' + text\n",
    "    doc['question_text_vector'] = embedding_model.encode(qt)"
   ]
  },
  {
   "cell_type": "code",
   "execution_count": 92,
   "id": "1dd795ee",
   "metadata": {},
   "outputs": [
    {
     "data": {
      "application/vnd.jupyter.widget-view+json": {
       "model_id": "3811d24d959d412da0f747197217b6ef",
       "version_major": 2,
       "version_minor": 0
      },
      "text/plain": [
       "  0%|          | 0/375 [00:00<?, ?it/s]"
      ]
     },
     "metadata": {},
     "output_type": "display_data"
    }
   ],
   "source": [
    "for doc in tqdm(doc_results):\n",
    "    es_client.index(index=index_name, document=doc)"
   ]
  },
  {
   "cell_type": "code",
   "execution_count": 93,
   "id": "65a64a01",
   "metadata": {},
   "outputs": [],
   "source": [
    "def elastic_search_knn(field, vector, course):\n",
    "    knn = {\n",
    "        \"field\": field,\n",
    "        \"query_vector\": vector,\n",
    "        \"k\": 5,\n",
    "        \"num_candidates\": 10000,\n",
    "        \"filter\": {\n",
    "            \"term\": {\n",
    "                \"course\": course\n",
    "            }\n",
    "        }\n",
    "    }\n",
    "\n",
    "    search_query = {\n",
    "        \"knn\": knn,\n",
    "        \"_source\": [\"text\", \"section\", \"question\", \"course\", \"id\"]\n",
    "    }\n",
    "\n",
    "    es_results = es_client.search(\n",
    "        index=index_name,\n",
    "        body=search_query\n",
    "    )\n",
    "    \n",
    "    result_docs = []\n",
    "    \n",
    "    for hit in es_results['hits']['hits']:\n",
    "        result_docs.append(hit['_source'])\n",
    "\n",
    "    return result_docs"
   ]
  },
  {
   "cell_type": "code",
   "execution_count": 94,
   "id": "da6931ed",
   "metadata": {},
   "outputs": [
    {
     "data": {
      "text/plain": [
       "[{'question': 'The course has already started. Can I still join it?',\n",
       "  'course': 'machine-learning-zoomcamp',\n",
       "  'section': 'General course-related questions',\n",
       "  'text': 'Yes, you can. You won’t be able to submit some of the homeworks, but you can still take part in the course.\\nIn order to get a certificate, you need to submit 2 out of 3 course projects and review 3 peers’ Projects by the deadline. It means that if you join the course at the end of November and manage to work on two projects, you will still be eligible for a certificate.',\n",
       "  'id': 'ee58a693'},\n",
       " {'question': 'I just joined. What should I do next? How can I access course materials?',\n",
       "  'course': 'machine-learning-zoomcamp',\n",
       "  'section': 'General course-related questions',\n",
       "  'text': 'Welcome to the course! Go to the course page (http://mlzoomcamp.com/), scroll down and start going through the course materials. Then read everything in the cohort folder for your cohort’s year.\\nClick on the links and start watching the videos. Also watch office hours from previous cohorts. Go to DTC youtube channel and click on Playlists and search for {course yyyy}. ML Zoomcamp was first launched in 2021.\\nOr you can just use this link: http://mlzoomcamp.com/#syllabus',\n",
       "  'id': '0a278fb2'},\n",
       " {'question': \"I filled the form, but haven't received a confirmation email. Is it normal?\",\n",
       "  'course': 'machine-learning-zoomcamp',\n",
       "  'section': 'General course-related questions',\n",
       "  'text': \"The process is automated now, so you should receive the email eventually. If you haven’t, check your promotions tab in Gmail as well as spam.\\nIf you unsubscribed from our newsletter, you won't get course related updates too.\\nBut don't worry, it’s not a problem. To make sure you don’t miss anything, join the #course-ml-zoomcamp channel in Slack and our telegram channel with announcements. This is enough to follow the course.\",\n",
       "  'id': '6ba259b1'},\n",
       " {'question': 'Can I do the course in other languages, like R or Scala?',\n",
       "  'course': 'machine-learning-zoomcamp',\n",
       "  'section': 'Miscellaneous',\n",
       "  'text': 'Technically, yes. Advisable? Not really. Reasons:\\nSome homework(s) asks for specific python library versions.\\nAnswers may not match in MCQ options if using different languages other than Python 3.10 (the recommended version for 2023 cohort)\\nAnd as for midterms/capstones, your peer-reviewers may not know these other languages. Do you want to be penalized for others not knowing these other languages?\\nYou can create a separate repo using course’s lessons but written in other languages for your own learnings, but not advisable for submissions.\\ntx[source]',\n",
       "  'id': '9f261648'},\n",
       " {'question': 'The course videos are from the previous iteration. Will you release new ones or we’ll use the videos from 2021?',\n",
       "  'course': 'machine-learning-zoomcamp',\n",
       "  'section': 'General course-related questions',\n",
       "  'text': 'We won’t re-record the course videos. The focus of the course and the skills we want to teach remained the same, and the videos are still up-to-date.\\nIf you haven’t taken part in the previous iteration, you can start watching the videos. It’ll be useful for you and you will learn new things. However, we recommend using Python 3.10 now instead of Python 3.8.',\n",
       "  'id': 'e7ba6b8a'}]"
      ]
     },
     "execution_count": 94,
     "metadata": {},
     "output_type": "execute_result"
    }
   ],
   "source": [
    "elastic_search_knn(\n",
    "    'question_text_vector', v , \"machine-learning-zoomcamp\")"
   ]
  },
  {
   "cell_type": "code",
   "execution_count": 98,
   "id": "01b94554",
   "metadata": {},
   "outputs": [
    {
     "data": {
      "application/vnd.jupyter.widget-view+json": {
       "model_id": "a19ab247babd4b6db75c6827adf08c02",
       "version_major": 2,
       "version_minor": 0
      },
      "text/plain": [
       "  0%|          | 0/1830 [00:00<?, ?it/s]"
      ]
     },
     "metadata": {},
     "output_type": "display_data"
    },
    {
     "data": {
      "text/plain": [
       "{'hit_rate': 0.9398907103825137}"
      ]
     },
     "execution_count": 98,
     "metadata": {},
     "output_type": "execute_result"
    }
   ],
   "source": [
    "def question_text_knn(q):\n",
    "    question = q['question']\n",
    "    course = q['course']\n",
    "\n",
    "    v_q = embedding_model.encode(question)\n",
    "    \n",
    "\n",
    "    return elastic_search_knn('question_text_vector', v_q , course)\n",
    "\n",
    "evaluate(ground_truth, question_text_knn)"
   ]
  },
  {
   "cell_type": "code",
   "execution_count": null,
   "id": "ade2b02e",
   "metadata": {},
   "outputs": [],
   "source": []
  }
 ],
 "metadata": {
  "kernelspec": {
   "display_name": "Python 3 (ipykernel)",
   "language": "python",
   "name": "python3"
  },
  "language_info": {
   "codemirror_mode": {
    "name": "ipython",
    "version": 3
   },
   "file_extension": ".py",
   "mimetype": "text/x-python",
   "name": "python",
   "nbconvert_exporter": "python",
   "pygments_lexer": "ipython3",
   "version": "3.9.13"
  }
 },
 "nbformat": 4,
 "nbformat_minor": 5
}
